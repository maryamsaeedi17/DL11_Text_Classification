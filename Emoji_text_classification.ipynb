{
  "nbformat": 4,
  "nbformat_minor": 0,
  "metadata": {
    "colab": {
      "provenance": [],
      "gpuType": "T4"
    },
    "kernelspec": {
      "name": "python3",
      "display_name": "Python 3"
    },
    "language_info": {
      "name": "python"
    },
    "accelerator": "GPU"
  },
  "cells": [
    {
      "cell_type": "code",
      "execution_count": 1,
      "metadata": {
        "id": "bh8zx_h3AsNo"
      },
      "outputs": [],
      "source": [
        "import tensorflow as tf\n",
        "import numpy as np\n",
        "import pandas as pd"
      ]
    },
    {
      "cell_type": "code",
      "source": [
        "def read_csv(file_path):\n",
        "  df = pd.read_csv(file_path)\n",
        "  X = np.array(df[\"sentence\"])\n",
        "  Y = np.array(df[\"label\"], dtype=int)\n",
        "\n",
        "  return X, Y"
      ],
      "metadata": {
        "id": "iE6t-9BmBJL0"
      },
      "execution_count": 2,
      "outputs": []
    },
    {
      "cell_type": "code",
      "source": [
        "X_train, Y_train = read_csv(\"/content/dataset/train.csv\")\n",
        "X_test, Y_test = read_csv(\"/content/dataset/test.csv\")"
      ],
      "metadata": {
        "id": "1c9eT2E4B-dW"
      },
      "execution_count": 4,
      "outputs": []
    },
    {
      "cell_type": "code",
      "source": [
        "index = 5\n",
        "X_train[index], Y_train[index]"
      ],
      "metadata": {
        "colab": {
          "base_uri": "https://localhost:8080/"
        },
        "id": "OaYjMC6xCTGU",
        "outputId": "4607bdb8-3721-4570-d3f0-afbf6943c91f"
      },
      "execution_count": 5,
      "outputs": [
        {
          "output_type": "execute_result",
          "data": {
            "text/plain": [
              "('I love you mum', 0)"
            ]
          },
          "metadata": {},
          "execution_count": 5
        }
      ]
    },
    {
      "cell_type": "code",
      "source": [
        "def label_to_emoji(label):\n",
        "  emojies = [\"❤️\", \"⚾️\", \"😄\", \"😔\", \"🍴\"]\n",
        "  return emojies[label]"
      ],
      "metadata": {
        "id": "E4SxixiJCrCx"
      },
      "execution_count": 6,
      "outputs": []
    },
    {
      "cell_type": "code",
      "source": [
        "index = 7\n",
        "X_train[index], label_to_emoji(Y_train[index])"
      ],
      "metadata": {
        "colab": {
          "base_uri": "https://localhost:8080/"
        },
        "id": "FpBMOAHEu1nh",
        "outputId": "72130642-031e-43c4-ef4d-26c0fd5689fb"
      },
      "execution_count": 7,
      "outputs": [
        {
          "output_type": "execute_result",
          "data": {
            "text/plain": [
              "('congratulations on your acceptance', '😄')"
            ]
          },
          "metadata": {},
          "execution_count": 7
        }
      ]
    },
    {
      "cell_type": "code",
      "source": [
        "unique, counts = np.unique(Y_train, return_counts=True)\n",
        "\n",
        "print(unique)\n",
        "print(counts)"
      ],
      "metadata": {
        "colab": {
          "base_uri": "https://localhost:8080/"
        },
        "id": "DiGvfPUkwBrb",
        "outputId": "7fe6fd29-6cc5-4745-8838-62411d53c5c9"
      },
      "execution_count": 8,
      "outputs": [
        {
          "output_type": "stream",
          "name": "stdout",
          "text": [
            "[0 1 2 3 4]\n",
            "[22 19 38 36 17]\n"
          ]
        }
      ]
    },
    {
      "cell_type": "code",
      "source": [
        "max_len = len(max(X_train, key=len).split(\" \"))\n",
        "max_len"
      ],
      "metadata": {
        "colab": {
          "base_uri": "https://localhost:8080/"
        },
        "id": "qDF17U8Cwo8m",
        "outputId": "07b00c87-7d40-4616-b300-e55680ae0f0c"
      },
      "execution_count": 13,
      "outputs": [
        {
          "output_type": "execute_result",
          "data": {
            "text/plain": [
              "10"
            ]
          },
          "metadata": {},
          "execution_count": 13
        }
      ]
    },
    {
      "cell_type": "code",
      "source": [
        "!wget https://nlp.stanford.edu/data/glove.6B.zip"
      ],
      "metadata": {
        "colab": {
          "base_uri": "https://localhost:8080/"
        },
        "id": "EwsClzFiqdbe",
        "outputId": "f5972b78-7cad-449e-ac14-77fd5e1a8b0e"
      },
      "execution_count": 14,
      "outputs": [
        {
          "output_type": "stream",
          "name": "stdout",
          "text": [
            "--2024-02-02 21:12:28--  https://nlp.stanford.edu/data/glove.6B.zip\n",
            "Resolving nlp.stanford.edu (nlp.stanford.edu)... 171.64.67.140\n",
            "Connecting to nlp.stanford.edu (nlp.stanford.edu)|171.64.67.140|:443... connected.\n",
            "HTTP request sent, awaiting response... 301 Moved Permanently\n",
            "Location: https://downloads.cs.stanford.edu/nlp/data/glove.6B.zip [following]\n",
            "--2024-02-02 21:12:28--  https://downloads.cs.stanford.edu/nlp/data/glove.6B.zip\n",
            "Resolving downloads.cs.stanford.edu (downloads.cs.stanford.edu)... 171.64.64.22\n",
            "Connecting to downloads.cs.stanford.edu (downloads.cs.stanford.edu)|171.64.64.22|:443... connected.\n",
            "HTTP request sent, awaiting response... 200 OK\n",
            "Length: 862182613 (822M) [application/zip]\n",
            "Saving to: ‘glove.6B.zip’\n",
            "\n",
            "glove.6B.zip        100%[===================>] 822.24M  5.01MB/s    in 2m 39s  \n",
            "\n",
            "2024-02-02 21:15:07 (5.17 MB/s) - ‘glove.6B.zip’ saved [862182613/862182613]\n",
            "\n"
          ]
        }
      ]
    },
    {
      "cell_type": "code",
      "source": [
        "!unzip -q glove.6B.zip -d glove.6B"
      ],
      "metadata": {
        "id": "uAN9pqzOquu-"
      },
      "execution_count": 15,
      "outputs": []
    },
    {
      "cell_type": "code",
      "source": [
        "f = open(\"/content/glove.6B/glove.6B.50d.txt\", encoding=\"utf-8\")\n",
        "\n",
        "words_vector = {}\n",
        "for line in f:\n",
        "  line = line.strip().split()\n",
        "  word = line[0]\n",
        "  vector = np.array(line[1:], dtype=np.float64)\n",
        "  words_vector[word] = vector"
      ],
      "metadata": {
        "id": "vI3o6xSwsCQ0"
      },
      "execution_count": 16,
      "outputs": []
    },
    {
      "cell_type": "code",
      "source": [
        "words_vector[\"snake\"]"
      ],
      "metadata": {
        "colab": {
          "base_uri": "https://localhost:8080/"
        },
        "id": "7x6rmAyCt5DK",
        "outputId": "37409de7-1dd9-4f17-8343-710a1135eb8a"
      },
      "execution_count": 17,
      "outputs": [
        {
          "output_type": "execute_result",
          "data": {
            "text/plain": [
              "array([ 0.49251 , -0.24279 , -0.49748 ,  0.28443 ,  0.16984 ,  0.61016 ,\n",
              "        0.20294 , -0.19734 ,  0.93474 , -0.11809 , -0.26342 ,  0.97142 ,\n",
              "        1.0427  ,  0.60017 , -0.46936 ,  0.10087 ,  0.60649 ,  1.1277  ,\n",
              "       -1.1823  , -0.29334 , -0.72885 , -0.46904 ,  1.1104  ,  0.27504 ,\n",
              "        0.48043 , -1.3031  , -0.58713 ,  0.90264 ,  0.089552, -0.60348 ,\n",
              "        1.1117  , -0.85367 , -0.13902 ,  0.87767 , -0.19307 ,  0.10299 ,\n",
              "       -0.83688 , -0.87202 ,  0.46529 , -0.22325 , -0.49207 ,  0.33727 ,\n",
              "       -0.49699 ,  0.95006 ,  0.75007 , -0.21252 ,  0.47244 , -1.4552  ,\n",
              "        0.11704 , -0.61483 ])"
            ]
          },
          "metadata": {},
          "execution_count": 17
        }
      ]
    },
    {
      "cell_type": "code",
      "source": [
        "words_vector[\"programming\"]"
      ],
      "metadata": {
        "colab": {
          "base_uri": "https://localhost:8080/"
        },
        "id": "8dddUFVhuBqS",
        "outputId": "3950011b-8684-4e48-fbc7-6bb70a89c6b0"
      },
      "execution_count": 18,
      "outputs": [
        {
          "output_type": "execute_result",
          "data": {
            "text/plain": [
              "array([ 0.14957 , -0.16036 , -0.1369  ,  1.0076  , -0.37291 ,  0.63466 ,\n",
              "       -0.93203 , -1.5188  , -0.24924 ,  0.67075 ,  0.51193 ,  0.28389 ,\n",
              "        0.18781 ,  0.8798  , -0.023971,  0.39789 , -0.72769 ,  1.0153  ,\n",
              "        0.11723 , -0.14114 ,  0.974   ,  0.48037 ,  0.25464 ,  1.3262  ,\n",
              "        0.17958 ,  0.19717 ,  0.074712, -0.24844 ,  0.26248 , -0.084427,\n",
              "        3.156   ,  0.38308 , -0.095827, -0.99383 , -0.20497 ,  0.38918 ,\n",
              "       -0.13281 , -0.21775 , -0.93632 ,  0.37943 ,  0.78475 ,  0.36969 ,\n",
              "       -1.3904  ,  0.54891 , -1.3798  ,  0.18898 ,  0.60928 ,  0.98271 ,\n",
              "       -0.53934 ,  1.4439  ])"
            ]
          },
          "metadata": {},
          "execution_count": 18
        }
      ]
    },
    {
      "cell_type": "code",
      "source": [
        "def sentence_to_ave(sentence):\n",
        "  sentence = sentence.lower()\n",
        "  words = sentence.split(\" \")\n",
        "\n",
        "  sum_vectors = np.zeros((50, ))\n",
        "  for word in words:\n",
        "    sum_vectors += words_vector[word]\n",
        "\n",
        "  ave_vector = sum_vectors / len(words)\n",
        "\n",
        "  return ave_vector\n"
      ],
      "metadata": {
        "id": "kCxEyKu-ufWq"
      },
      "execution_count": 19,
      "outputs": []
    },
    {
      "cell_type": "code",
      "source": [
        "sentence_to_ave(\"I love programming too much\")"
      ],
      "metadata": {
        "colab": {
          "base_uri": "https://localhost:8080/"
        },
        "id": "xkOnQ69Dv5fV",
        "outputId": "fc74f5bb-5439-45c0-d69a-c57ccb1ee884"
      },
      "execution_count": 20,
      "outputs": [
        {
          "output_type": "execute_result",
          "data": {
            "text/plain": [
              "array([ 0.157256  ,  0.1669862 , -0.188816  , -0.27733   ,  0.316686  ,\n",
              "        0.2276832 , -0.442016  , -0.19912792, -0.528786  ,  0.58095151,\n",
              "       -0.099434  ,  0.543644  , -0.400818  , -0.0196456 ,  0.6553478 ,\n",
              "        0.357032  ,  0.110736  ,  0.3904726 , -0.015683  , -0.5693798 ,\n",
              "       -0.11808   ,  0.662674  ,  0.50238   ,  0.380024  ,  0.798924  ,\n",
              "       -1.542946  , -0.8024376 ,  0.265944  ,  0.838432  , -0.497945  ,\n",
              "        3.32178   ,  0.516902  , -0.0628614 , -0.236668  , -0.1666506 ,\n",
              "       -0.104354  , -0.144238  ,  0.238698  , -0.116562  , -0.335334  ,\n",
              "        0.00965334,  0.2257584 , -0.261848  ,  0.44801   , -0.2448288 ,\n",
              "        0.1346956 ,  0.0192128 , -0.21776632, -0.28343   ,  0.698352  ])"
            ]
          },
          "metadata": {},
          "execution_count": 20
        }
      ]
    },
    {
      "cell_type": "code",
      "source": [
        "X_train_ave = []\n",
        "\n",
        "for x_train in X_train:\n",
        "  X_train_ave.append(sentence_to_ave(x_train))\n",
        "\n",
        "X_train_ave = np.array(X_train_ave)"
      ],
      "metadata": {
        "id": "EC-2E2v9wU55"
      },
      "execution_count": null,
      "outputs": []
    }
  ]
}